{
 "cells": [
  {
   "cell_type": "markdown",
   "metadata": {},
   "source": [
    "## Programming for Data Analysis Project"
   ]
  },
  {
   "cell_type": "code",
   "execution_count": 1,
   "metadata": {},
   "outputs": [],
   "source": [
    "import pandas as pd\n",
    "import seaborn as sns\n",
    "import matplotlib.pyplot as plt\n",
    "import numpy as np\n",
    "import scipy.stats as stats"
   ]
  },
  {
   "cell_type": "markdown",
   "metadata": {},
   "source": [
    "This project uses census data to simulate a set of student attributes for estimating Leaving Certificate point results. The dataset is comprised of four variables: the year born, male/female, living inside or outside Dublin, and hours of study per week. Population data is taken primarily from [this link](https://www.cso.ie/en/csolatestnews/presspages/2017/census2016profile2-populationdistributionandmovements/) at cso.ie.\n",
    "\n",
    "I first define the yearBorn variable, taking the likely range of years in which students taking the LC exams as 2001 to 2003. I use the numpy.random.choice function to generate the list of results, weighting the probabilities for the respective years as 25%, 50%, and 25%."
   ]
  },
  {
   "cell_type": "code",
   "execution_count": 3,
   "metadata": {},
   "outputs": [],
   "source": [
    "# yearBorn\n",
    "yearsBorn = ['2001', '2002', '2003']\n",
    "yearBorn = np.random.choice(yearsBorn, p=[0.25, 0.5, 0.25], size=200)"
   ]
  },
  {
   "cell_type": "markdown",
   "metadata": {},
   "source": [
    "I use a counting function from [a Jupyter notebook](https://github.com/donalbuggy/fundamentalsOfDataAnalysis/blob/main/fundamentalsOfDataAnalysisTasks.ipynb) from a previous assignment to confirm that the distribution of students born in each year conforms to the probabilities assigned."
   ]
  },
  {
   "cell_type": "code",
   "execution_count": 4,
   "metadata": {
    "scrolled": true
   },
   "outputs": [
    {
     "data": {
      "text/plain": [
       "{'2003': 58, '2002': 97, '2001': 45}"
      ]
     },
     "execution_count": 4,
     "metadata": {},
     "output_type": "execute_result"
    }
   ],
   "source": [
    "# counts function\n",
    "def counts(listArgument):\n",
    "    elementCount = {}\n",
    "    for key in listArgument:\n",
    "        elementCount[key] = elementCount.get(key, 0) + 1\n",
    "    return elementCount\n",
    "\n",
    "counts(yearBorn)"
   ]
  },
  {
   "cell_type": "markdown",
   "metadata": {},
   "source": [
    "Next I define the sex variable, assuming a distribution of male and female students that conforms to the general population.\n",
    "The information at [cso.ie](https://data.cso.ie/table/E2001) and [worldometers.info](https://www.worldometers.info/world-population/ireland-population/) gives the population breakdown as 2,272,699 male and 2,407,437 female, according to 2016 census data. As such the probabilities for a numpy.random.choice operation selecting either male or female correspond to p=0.4856053328364817 male, p=0.5143946671635183 female."
   ]
  },
  {
   "cell_type": "code",
   "execution_count": 6,
   "metadata": {},
   "outputs": [
    {
     "data": {
      "text/plain": [
       "{'male': 99, 'female': 101}"
      ]
     },
     "execution_count": 6,
     "metadata": {},
     "output_type": "execute_result"
    }
   ],
   "source": [
    "# sex\n",
    "# male 2,272,699, female 2,407,437\n",
    "# female = male * 1.0592854575110915\n",
    "sexChoice = ['male', 'female']\n",
    "sex = np.random.choice(sexChoice, p=[0.4856053328364817, 0.5143946671635183], size=200)\n",
    "\n",
    "counts(sex)"
   ]
  },
  {
   "cell_type": "markdown",
   "metadata": {},
   "source": [
    "Next I define the dunblinYesNo variable, giving the proportion of students living inside or outside Dublin (again assuming the numbers for student demographics to conform to those of the general population).\n",
    "[worldometers.info](https://www.worldometers.info/demographics/ireland-demographics/#urb) Gives the corresponding population data as 1,024,027 living in Dublin against 4,680,136 as the general population. Thus as a proportion of the general population, the probability for students in the dataset being from Dublin is set to p=0.21880282966136028. I generate the data using a binomial ditribution, where 0 corresponds to a student outside Dublin, 1 to a student inside Dublin."
   ]
  },
  {
   "cell_type": "code",
   "execution_count": 7,
   "metadata": {
    "scrolled": true
   },
   "outputs": [
    {
     "data": {
      "text/plain": [
       "{0: 161, 1: 39}"
      ]
     },
     "execution_count": 7,
     "metadata": {},
     "output_type": "execute_result"
    }
   ],
   "source": [
    "# dublinYesNo\n",
    "# total pop = 4680136, Dublin pop = 1,024,027\n",
    "dublinYesNo = np.random.binomial(1, p=0.21880282966136028, size=200)\n",
    "\n",
    "counts(dublinYesNo)"
   ]
  },
  {
   "cell_type": "markdown",
   "metadata": {},
   "source": [
    "Finally I use a normal distribution to generate the hours of study per week. For this I assume a mean study time of 25 hours and a stanard deviation of five."
   ]
  },
  {
   "cell_type": "code",
   "execution_count": 3,
   "metadata": {
    "scrolled": false
   },
   "outputs": [
    {
     "data": {
      "text/plain": [
       "(array([ 2.,  3.,  1.,  4.,  7.,  9., 16., 19., 18., 17., 30., 20., 15.,\n",
       "        10., 15.,  8.,  3.,  1.,  1.,  1.]),\n",
       " array([11.17847656, 12.59380795, 14.00913933, 15.42447071, 16.8398021 ,\n",
       "        18.25513348, 19.67046487, 21.08579625, 22.50112763, 23.91645902,\n",
       "        25.3317904 , 26.74712179, 28.16245317, 29.57778455, 30.99311594,\n",
       "        32.40844732, 33.82377871, 35.23911009, 36.65444147, 38.06977286,\n",
       "        39.48510424]),\n",
       " <a list of 20 Patch objects>)"
      ]
     },
     "execution_count": 3,
     "metadata": {},
     "output_type": "execute_result"
    },
    {
     "data": {
      "image/png": "[encoded data removed]",
      "text/plain": [
       "<Figure size 432x288 with 1 Axes>"
      ]
     },
     "metadata": {
      "needs_background": "light"
     },
     "output_type": "display_data"
    }
   ],
   "source": [
    "# hrsStudy\n",
    "# normal distribution\n",
    "mean, std = 25, 5\n",
    "hrsWeek = np.random.normal(mean, std, 200)\n",
    "plt.hist(hrsWeek, 20)"
   ]
  },
  {
   "cell_type": "markdown",
   "metadata": {},
   "source": [
    "To complete the dataset I also simulated final Leaving Cert points, again using a normal distribution, with the mean set to 400 points and a standard deviation of 50."
   ]
  },
  {
   "cell_type": "code",
   "execution_count": 6,
   "metadata": {},
   "outputs": [
    {
     "data": {
      "text/plain": [
       "(array([ 2.,  0.,  1.,  4.,  9., 11., 17., 15., 25., 25., 20., 16., 22.,\n",
       "        16.,  7.,  4.,  3.,  0.,  1.,  2.]),\n",
       " array([253.69746308, 268.87926707, 284.06107107, 299.24287507,\n",
       "        314.42467907, 329.60648306, 344.78828706, 359.97009106,\n",
       "        375.15189505, 390.33369905, 405.51550305, 420.69730705,\n",
       "        435.87911104, 451.06091504, 466.24271904, 481.42452303,\n",
       "        496.60632703, 511.78813103, 526.96993503, 542.15173902,\n",
       "        557.33354302]),\n",
       " <a list of 20 Patch objects>)"
      ]
     },
     "execution_count": 6,
     "metadata": {},
     "output_type": "execute_result"
    },
    {
     "data": {
      "image/png": "[encoded data removed]",
      "text/plain": [
       "<Figure size 432x288 with 1 Axes>"
      ]
     },
     "metadata": {
      "needs_background": "light"
     },
     "output_type": "display_data"
    }
   ],
   "source": [
    "# Leaving Cert points\n",
    "points = np.random.normal(400, 50, 200)\n",
    "plt.hist(points, 20)"
   ]
  },
  {
   "cell_type": "markdown",
   "metadata": {},
   "source": [
    "The output of the distribution function was float values, which needed to be rounded to serve as simulated points. This was done using Pandas."
   ]
  },
  {
   "cell_type": "code",
   "execution_count": 8,
   "metadata": {
    "scrolled": false
   },
   "outputs": [
    {
     "data": {
      "text/html": [
       "<div>\n",
       "<style scoped>\n",
       "    .dataframe tbody tr th:only-of-type {\n",
       "        vertical-align: middle;\n",
       "    }\n",
       "\n",
       "    .dataframe tbody tr th {\n",
       "        vertical-align: top;\n",
       "    }\n",
       "\n",
       "    .dataframe thead th {\n",
       "        text-align: right;\n",
       "    }\n",
       "</style>\n",
       "<table border=\"1\" class=\"dataframe\">\n",
       "  <thead>\n",
       "    <tr style=\"text-align: right;\">\n",
       "      <th></th>\n",
       "      <th>Points</th>\n",
       "    </tr>\n",
       "  </thead>\n",
       "  <tbody>\n",
       "    <tr>\n",
       "      <th>0</th>\n",
       "      <td>454.0</td>\n",
       "    </tr>\n",
       "    <tr>\n",
       "      <th>1</th>\n",
       "      <td>421.0</td>\n",
       "    </tr>\n",
       "    <tr>\n",
       "      <th>2</th>\n",
       "      <td>464.0</td>\n",
       "    </tr>\n",
       "    <tr>\n",
       "      <th>3</th>\n",
       "      <td>432.0</td>\n",
       "    </tr>\n",
       "    <tr>\n",
       "      <th>4</th>\n",
       "      <td>334.0</td>\n",
       "    </tr>\n",
       "    <tr>\n",
       "      <th>...</th>\n",
       "      <td>...</td>\n",
       "    </tr>\n",
       "    <tr>\n",
       "      <th>195</th>\n",
       "      <td>407.0</td>\n",
       "    </tr>\n",
       "    <tr>\n",
       "      <th>196</th>\n",
       "      <td>359.0</td>\n",
       "    </tr>\n",
       "    <tr>\n",
       "      <th>197</th>\n",
       "      <td>453.0</td>\n",
       "    </tr>\n",
       "    <tr>\n",
       "      <th>198</th>\n",
       "      <td>400.0</td>\n",
       "    </tr>\n",
       "    <tr>\n",
       "      <th>199</th>\n",
       "      <td>401.0</td>\n",
       "    </tr>\n",
       "  </tbody>\n",
       "</table>\n",
       "<p>200 rows × 1 columns</p>\n",
       "</div>"
      ],
      "text/plain": [
       "     Points\n",
       "0     454.0\n",
       "1     421.0\n",
       "2     464.0\n",
       "3     432.0\n",
       "4     334.0\n",
       "..      ...\n",
       "195   407.0\n",
       "196   359.0\n",
       "197   453.0\n",
       "198   400.0\n",
       "199   401.0\n",
       "\n",
       "[200 rows x 1 columns]"
      ]
     },
     "execution_count": 8,
     "metadata": {},
     "output_type": "execute_result"
    }
   ],
   "source": [
    "# intiating a new dataframe using the 'points' variable, then passing its contents to a new variable.\n",
    "dfpoints = pd.DataFrame(data={'Points': points})\n",
    "\n",
    "# using the DataFrame.round() function to round the contents of 'dfpoints'\n",
    "dfpoints = pd.DataFrame.round(dfpoints)\n",
    "\n",
    "dfpoints # checking the new rounded values"
   ]
  },
  {
   "cell_type": "markdown",
   "metadata": {},
   "source": [
    "Finally, the four variables and the dfpoints dataframe object are passed to a new dataframe using Pandas to generate the full dataset."
   ]
  },
  {
   "cell_type": "code",
   "execution_count": 118,
   "metadata": {
    "scrolled": true
   },
   "outputs": [
    {
     "data": {
      "text/html": [
       "<div>\n",
       "<style scoped>\n",
       "    .dataframe tbody tr th:only-of-type {\n",
       "        vertical-align: middle;\n",
       "    }\n",
       "\n",
       "    .dataframe tbody tr th {\n",
       "        vertical-align: top;\n",
       "    }\n",
       "\n",
       "    .dataframe thead th {\n",
       "        text-align: right;\n",
       "    }\n",
       "</style>\n",
       "<table border=\"1\" class=\"dataframe\">\n",
       "  <thead>\n",
       "    <tr style=\"text-align: right;\">\n",
       "      <th></th>\n",
       "      <th>Year born</th>\n",
       "      <th>M/F</th>\n",
       "      <th>Dublin?</th>\n",
       "      <th>Hours study per week</th>\n",
       "      <th>Points</th>\n",
       "    </tr>\n",
       "  </thead>\n",
       "  <tbody>\n",
       "    <tr>\n",
       "      <th>0</th>\n",
       "      <td>2002</td>\n",
       "      <td>female</td>\n",
       "      <td>0</td>\n",
       "      <td>21.672340</td>\n",
       "      <td>406.0</td>\n",
       "    </tr>\n",
       "    <tr>\n",
       "      <th>1</th>\n",
       "      <td>2003</td>\n",
       "      <td>female</td>\n",
       "      <td>0</td>\n",
       "      <td>26.688251</td>\n",
       "      <td>323.0</td>\n",
       "    </tr>\n",
       "    <tr>\n",
       "      <th>2</th>\n",
       "      <td>2002</td>\n",
       "      <td>female</td>\n",
       "      <td>1</td>\n",
       "      <td>11.079238</td>\n",
       "      <td>479.0</td>\n",
       "    </tr>\n",
       "    <tr>\n",
       "      <th>3</th>\n",
       "      <td>2003</td>\n",
       "      <td>female</td>\n",
       "      <td>0</td>\n",
       "      <td>23.847048</td>\n",
       "      <td>409.0</td>\n",
       "    </tr>\n",
       "    <tr>\n",
       "      <th>4</th>\n",
       "      <td>2003</td>\n",
       "      <td>male</td>\n",
       "      <td>0</td>\n",
       "      <td>25.085708</td>\n",
       "      <td>357.0</td>\n",
       "    </tr>\n",
       "    <tr>\n",
       "      <th>...</th>\n",
       "      <td>...</td>\n",
       "      <td>...</td>\n",
       "      <td>...</td>\n",
       "      <td>...</td>\n",
       "      <td>...</td>\n",
       "    </tr>\n",
       "    <tr>\n",
       "      <th>195</th>\n",
       "      <td>2003</td>\n",
       "      <td>male</td>\n",
       "      <td>0</td>\n",
       "      <td>29.602087</td>\n",
       "      <td>404.0</td>\n",
       "    </tr>\n",
       "    <tr>\n",
       "      <th>196</th>\n",
       "      <td>2003</td>\n",
       "      <td>male</td>\n",
       "      <td>1</td>\n",
       "      <td>11.966545</td>\n",
       "      <td>404.0</td>\n",
       "    </tr>\n",
       "    <tr>\n",
       "      <th>197</th>\n",
       "      <td>2003</td>\n",
       "      <td>female</td>\n",
       "      <td>0</td>\n",
       "      <td>17.740484</td>\n",
       "      <td>335.0</td>\n",
       "    </tr>\n",
       "    <tr>\n",
       "      <th>198</th>\n",
       "      <td>2003</td>\n",
       "      <td>male</td>\n",
       "      <td>0</td>\n",
       "      <td>23.660690</td>\n",
       "      <td>388.0</td>\n",
       "    </tr>\n",
       "    <tr>\n",
       "      <th>199</th>\n",
       "      <td>2001</td>\n",
       "      <td>male</td>\n",
       "      <td>1</td>\n",
       "      <td>31.848168</td>\n",
       "      <td>387.0</td>\n",
       "    </tr>\n",
       "  </tbody>\n",
       "</table>\n",
       "<p>200 rows × 5 columns</p>\n",
       "</div>"
      ],
      "text/plain": [
       "    Year born     M/F  Dublin?  Hours study per week  Points\n",
       "0        2002  female        0             21.672340   406.0\n",
       "1        2003  female        0             26.688251   323.0\n",
       "2        2002  female        1             11.079238   479.0\n",
       "3        2003  female        0             23.847048   409.0\n",
       "4        2003    male        0             25.085708   357.0\n",
       "..        ...     ...      ...                   ...     ...\n",
       "195      2003    male        0             29.602087   404.0\n",
       "196      2003    male        1             11.966545   404.0\n",
       "197      2003  female        0             17.740484   335.0\n",
       "198      2003    male        0             23.660690   388.0\n",
       "199      2001    male        1             31.848168   387.0\n",
       "\n",
       "[200 rows x 5 columns]"
      ]
     },
     "execution_count": 118,
     "metadata": {},
     "output_type": "execute_result"
    }
   ],
   "source": [
    "df = pd.DataFrame(data={'Year born': yearBorn, 'M/F': sex, 'Dublin?': dublinYesNo, 'Hours study per week': hrsWeek})\n",
    "df['Points'] = dfpoints\n",
    "df"
   ]
  },
  {
   "cell_type": "code",
   "execution_count": null,
   "metadata": {},
   "outputs": [],
   "source": []
  },
  {
   "cell_type": "markdown",
   "metadata": {},
   "source": [
    "### References\n",
    "\n",
    "https://www.independent.ie/irish-news/education/exams/number-of-students-sitting-leaving-cert-surges-to-highest-level-in-15-years-thanks-to-millennium-baby-boom-38177189.html\n",
    "\n",
    "https://pythonexamples.org/pandas-dataframe-add-column/\n",
    "\n",
    "https://www.cso.ie/en/csolatestnews/presspages/2017/census2016profile2-populationdistributionandmovements/\n",
    "\n",
    "https://data.cso.ie/table/E2001\n",
    "\n",
    "https://www.worldometers.info/world-population/ireland-population/\n",
    "\n",
    "https://www.worldometers.info/demographics/ireland-demographics/#urb\n",
    "\n",
    "https://github.com/donalbuggy/fundamentalsOfDataAnalysis/blob/main/fundamentalsOfDataAnalysisTasks.ipynb"
   ]
  },
  {
   "cell_type": "code",
   "execution_count": null,
   "metadata": {},
   "outputs": [],
   "source": []
  }
 ],
 "metadata": {
  "kernelspec": {
   "display_name": "Python 3",
   "language": "python",
   "name": "python3"
  },
  "language_info": {
   "codemirror_mode": {
    "name": "ipython",
    "version": 3
   },
   "file_extension": ".py",
   "mimetype": "text/x-python",
   "name": "python",
   "nbconvert_exporter": "python",
   "pygments_lexer": "ipython3",
   "version": "3.8.3"
  }
 },
 "nbformat": 4,
 "nbformat_minor": 4
}
