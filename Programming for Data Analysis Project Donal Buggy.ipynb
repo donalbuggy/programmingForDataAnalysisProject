{
 "cells": [
  {
   "cell_type": "code",
   "execution_count": 24,
   "metadata": {},
   "outputs": [],
   "source": [
    "import pandas as pd\n",
    "import seaborn as sns\n",
    "import matplotlib.pyplot as plt\n",
    "import numpy as np"
   ]
  },
  {
   "cell_type": "code",
   "execution_count": 39,
   "metadata": {},
   "outputs": [
    {
     "data": {
      "text/plain": [
       "{1: 13268, 0: 46732}"
      ]
     },
     "execution_count": 39,
     "metadata": {},
     "output_type": "execute_result"
    },
    {
     "data": {
      "image/png": "[encoded data removed]",
      "text/plain": [
       "<Figure size 432x288 with 1 Axes>"
      ]
     },
     "metadata": {
      "needs_background": "light"
     },
     "output_type": "display_data"
    }
   ],
   "source": [
    "# 4 variables: yearBorn, gender (2016: male 2,272,699, female 2,407,437), dublinYesNo, hrsStudy\n",
    "\n",
    "# counts function\n",
    "def counts(listArgument):\n",
    "    elementCount = {}\n",
    "    for key in listArgument:\n",
    "        elementCount[key] = elementCount.get(key, 0) + 1\n",
    "    return elementCount\n",
    "\n",
    "\n",
    "# yearBorn\n",
    "yearsBorn = ['2001', '2002', '2003']\n",
    "yearBorn = np.random.choice(yearsBorn, p=[0.333, 0.333, 0.334], size=60000)\n",
    "\n",
    "# sex\n",
    "# female = male * 1.0592854575110915\n",
    "sexChoice = ['male', 'female']\n",
    "sex = np.random.choice(sexChoice, p=[0.4856053328364817, 0.5143946671635183], size=60000)\n",
    "\n",
    "# dublinYesNo\n",
    "# total pop = 4680136, Dublin pop = 1,024,027\n",
    "dublinYesNo = np.random.binomial(1, p=0.21880282966136028, size=60000)\n",
    "\n",
    "# hrsStudy\n",
    "# normal distribution\n",
    "mean, std = 25, 5\n",
    "s = np.random.normal(mean, std, 60000)\n",
    "plt.hist(s, 100)\n",
    "\n",
    "\n",
    "counts(dublinYesNo)"
   ]
  },
  {
   "cell_type": "code",
   "execution_count": null,
   "metadata": {},
   "outputs": [],
   "source": []
  }
 ],
 "metadata": {
  "kernelspec": {
   "display_name": "Python 3",
   "language": "python",
   "name": "python3"
  },
  "language_info": {
   "codemirror_mode": {
    "name": "ipython",
    "version": 3
   },
   "file_extension": ".py",
   "mimetype": "text/x-python",
   "name": "python",
   "nbconvert_exporter": "python",
   "pygments_lexer": "ipython3",
   "version": "3.8.3"
  }
 },
 "nbformat": 4,
 "nbformat_minor": 4
}
